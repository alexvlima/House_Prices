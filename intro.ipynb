{
 "cells": [
  {
   "cell_type": "markdown",
   "metadata": {},
   "source": [
    "# Building Deep Learning Applications with Keras: Hello Keras!\n",
    "\n",
    "The best way to describe Keras is by its [official site](https://keras.io/)\n",
    "\n",
    "> Keras is a high-level neural networks API, written in Python and capable of running on top of either TensorFlow or Theano. It was developed with a focus on enabling fast experimentation. Being able to go from idea to result with the least possible delay is key to doing good research.\"\n",
    "\n",
    "**In this tutorial we will will learn a very basic usage of this library.**\n"
   ]
  },
  {
   "cell_type": "code",
   "execution_count": null,
   "metadata": {
    "collapsed": false
   },
   "outputs": [],
   "source": [
    "import keras\n",
    "import numpy as np\n",
    "from util import get_housing_prices_data, randomize_in_place, standardize, r_squared\n",
    "from plots import plot_points_regression "
   ]
  },
  {
   "cell_type": "markdown",
   "metadata": {},
   "source": [
    "## Linear Regression example\n",
    "\n",
    "As a starting point we will use a synthetic data of housing prices. Here we have observations of the form $(x_1, y_1) \\dots (x_N, y_N)$ where $x_i$ is size (in square-meters) and $y_i$ is price. The learning task here is simple: **use past observations to predict prices**.\n",
    "\n",
    "## House Prices: a toy example\n",
    "\n",
    "First, let's generate two types of data: the **train data** (which we use to train our model) and the **test data** (a part of the data used only to assess the performance of the model)."
   ]
  },
  {
   "cell_type": "code",
   "execution_count": null,
   "metadata": {
    "collapsed": true
   },
   "outputs": [],
   "source": [
    "X, y = get_housing_prices_data(N=300, verbose=False)\n",
    "randomize_in_place(X, y)\n",
    "\n",
    "train_X = X[0:250]\n",
    "train_y = y[0:250]\n",
    "test_X = X[250:]\n",
    "test_y = y[250:]"
   ]
  },
  {
   "cell_type": "markdown",
   "metadata": {},
   "source": [
    "We can use the library [matplotlib](https://matplotlib.org/) to get useful visualizations of the data"
   ]
  },
  {
   "cell_type": "code",
   "execution_count": null,
   "metadata": {
    "collapsed": false
   },
   "outputs": [],
   "source": [
    "plot_points_regression(train_X,\n",
    "                       train_y,\n",
    "                       title='Real estate prices prediction (train data)',\n",
    "                       xlabel=\"m\\u00b2\",\n",
    "                       ylabel='$')"
   ]
  },
  {
   "cell_type": "code",
   "execution_count": null,
   "metadata": {
    "collapsed": false
   },
   "outputs": [],
   "source": [
    "plot_points_regression(test_X,\n",
    "                       test_y,\n",
    "                       title='Real estate prices prediction (test data)',\n",
    "                       xlabel=\"m\\u00b2\",\n",
    "                       ylabel='$')"
   ]
  },
  {
   "cell_type": "markdown",
   "metadata": {},
   "source": [
    "## The model\n",
    "\n",
    "We will start with the basic model in the machine learning toolkit: **the linear model**. Here a linear model $f$ will use only two parameters $w$ and $b$ to estimate the price:\n",
    "\n",
    "$$\n",
    "\\hat{y}_{i} = f(x_{i}; w, b) = wx_{i} + b\n",
    "$$\n",
    "\n",
    "To estimate the quality of the model we use one metric to check how far away is the model's output from the target values. In this case, we use [the mean squared error](https://en.wikipedia.org/wiki/Mean_squared_error): \n",
    "\n",
    "\\begin{equation}\n",
    "J(w, b) = \\frac{1}{N}\\sum_{i=1}^{N}(\\hat{y}_{i} - y_{i})^{2}\n",
    "\\end{equation}\n",
    "\n",
    "It's very easy to define this model using Keras.\n",
    "\n",
    "An easy way to define models in Keras is by using the [`Sequential`](https://keras.io/getting-started/sequential-model-guide/) class. This class creates a model when we pass to it a sequence of layers."
   ]
  },
  {
   "cell_type": "code",
   "execution_count": null,
   "metadata": {
    "collapsed": true
   },
   "outputs": [],
   "source": [
    "from keras import Sequential\n",
    "from keras.layers import Dense"
   ]
  },
  {
   "cell_type": "markdown",
   "metadata": {},
   "source": [
    "We have only one feature ($m^2$) and only one output (the price), so we can see a linear regression model as a very simplistic neural network with no hidden layer and with only one neuron."
   ]
  },
  {
   "cell_type": "code",
   "execution_count": null,
   "metadata": {
    "collapsed": true
   },
   "outputs": [],
   "source": [
    "linear_regression = keras.Sequential([Dense(units=1, input_shape=[1])])"
   ]
  },
  {
   "cell_type": "markdown",
   "metadata": {},
   "source": [
    "We now compile the model creating the **loss function** and the **optimizer**."
   ]
  },
  {
   "cell_type": "code",
   "execution_count": null,
   "metadata": {
    "collapsed": true
   },
   "outputs": [],
   "source": [
    "linear_regression.compile(loss='mean_squared_error', \n",
    "              optimizer='sgd')"
   ]
  },
  {
   "cell_type": "markdown",
   "metadata": {},
   "source": [
    "There are different loss functions and optimizers available in Keras:\n",
    "\n",
    "**Loss functions**\n",
    "\n",
    "- categorical_crossentropy\n",
    "- sparse_categorical_crossentropy\n",
    "- binary_crossentropy\n",
    "- mean_squared_error\n",
    "- mean_absolute_error\n",
    "\n",
    "**Optimizers**\n",
    "- SGD\n",
    "- RMSprop\n",
    "- Adagrad\n",
    "- Adadelta\n",
    "- Adam\n",
    "- Adamax"
   ]
  },
  {
   "cell_type": "markdown",
   "metadata": {},
   "source": [
    "Now to perform the training let's stantardize the data"
   ]
  },
  {
   "cell_type": "code",
   "execution_count": null,
   "metadata": {
    "collapsed": true
   },
   "outputs": [],
   "source": [
    "train_X_norm = standardize(train_X)\n",
    "train_y_norm = standardize(train_y)\n",
    "test_X_norm = standardize(test_X)"
   ]
  },
  {
   "cell_type": "markdown",
   "metadata": {},
   "source": [
    "A nontrainded model starts with a random prediction. We always can use the model to predict by using the `.predict()` method."
   ]
  },
  {
   "cell_type": "code",
   "execution_count": null,
   "metadata": {
    "collapsed": false
   },
   "outputs": [],
   "source": [
    "pred = linear_regression.predict(train_X_norm)\n",
    "pred = pred.reshape((pred.shape[0],))\n",
    "plot_points_regression(train_X_norm,\n",
    "                       train_y_norm,\n",
    "                       prediction=pred,\n",
    "                       title='Real estate prices prediction (test set)',\n",
    "                       xlabel=\"m\\u00b2\",\n",
    "                       ylabel='$')"
   ]
  },
  {
   "cell_type": "markdown",
   "metadata": {},
   "source": [
    "To train the model we use the `.fit()` method."
   ]
  },
  {
   "cell_type": "code",
   "execution_count": null,
   "metadata": {
    "collapsed": false
   },
   "outputs": [],
   "source": [
    "linear_regression.fit(train_X_norm,\n",
    "                      train_y_norm,\n",
    "                      batch_size=32,\n",
    "                      epochs=20,\n",
    "                      validation_split=0.2,\n",
    "                      verbose=1)"
   ]
  },
  {
   "cell_type": "markdown",
   "metadata": {},
   "source": [
    "After training, we can see the model's prediction quality "
   ]
  },
  {
   "cell_type": "code",
   "execution_count": null,
   "metadata": {
    "collapsed": false
   },
   "outputs": [],
   "source": [
    "pred = linear_regression.predict(train_X_norm)\n",
    "pred = pred.reshape((pred.shape[0],))\n",
    "plot_points_regression(train_X_norm,\n",
    "                       train_y_norm,\n",
    "                       prediction=pred,\n",
    "                       title='Real estate prices prediction (test set)',\n",
    "                       xlabel=\"m\\u00b2\",\n",
    "                       ylabel='$')"
   ]
  },
  {
   "cell_type": "markdown",
   "metadata": {},
   "source": [
    "The model have fitted the trained data, great. But remember, **that is not what we want!** We want to predict unseen data. Let's see how the model behave on the **test data**. We can also use the [$R^2$](https://en.wikipedia.org/wiki/Coefficient_of_determination) metric do see how well the linear model fits the test data."
   ]
  },
  {
   "cell_type": "code",
   "execution_count": null,
   "metadata": {
    "collapsed": false
   },
   "outputs": [],
   "source": [
    "prediction = linear_regression.predict(test_X_norm)\n",
    "prediction = (prediction * np.std(train_y)) + np.mean(train_y)\n",
    "r_2 = r_squared(test_y, prediction)\n",
    "\n",
    "plot_points_regression(test_X,\n",
    "                       test_y,\n",
    "                       title='Test data',\n",
    "                       xlabel=\"m\\u00b2\",\n",
    "                       ylabel='$',\n",
    "                       prediction=prediction,\n",
    "                       r_squared=r_2,\n",
    "                       legend=True)"
   ]
  },
  {
   "cell_type": "markdown",
   "metadata": {},
   "source": [
    "## House Prices: Kaggle example\n",
    "\n",
    "You have learned the basics of linear regression here. But this data set is just a toy example. You can find a more realistic data of the same problem in [Kaggle](https://www.kaggle.com/c/house-prices-advanced-regression-techniques). Check it out!\n"
   ]
  }
 ],
 "metadata": {
  "kernelspec": {
   "display_name": "Python 3",
   "language": "python",
   "name": "python3"
  },
  "language_info": {
   "codemirror_mode": {
    "name": "ipython",
    "version": 3
   },
   "file_extension": ".py",
   "mimetype": "text/x-python",
   "name": "python",
   "nbconvert_exporter": "python",
   "pygments_lexer": "ipython3",
   "version": "3.5.2"
  }
 },
 "nbformat": 4,
 "nbformat_minor": 2
}
